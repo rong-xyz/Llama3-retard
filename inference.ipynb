{
 "cells": [
  {
   "cell_type": "code",
   "execution_count": 3,
   "metadata": {},
   "outputs": [
    {
     "name": "stdout",
     "output_type": "stream",
     "text": [
      "2024-05-17 10:16:02 :  爸爸再婚我是不是就有了新娘\n"
     ]
    },
    {
     "data": {
      "text/plain": [
       "'在中文中，新娘通常是指已婚女性。所以，如果你的爸爸再婚，你并不会变成新娘'"
      ]
     },
     "execution_count": 3,
     "metadata": {},
     "output_type": "execute_result"
    }
   ],
   "source": [
    "from util import run_llama_inference\n",
    "run_llama_inference(\"爸爸再婚我是不是就有了新娘\")"
   ]
  },
  {
   "cell_type": "code",
   "execution_count": null,
   "metadata": {},
   "outputs": [],
   "source": [
    "from llama_cpp import Llama\n",
    "from util import alpaca_prompt\n",
    "\n",
    "# If you are not using a compiled llama.cpp\n",
    "\n",
    "llm = Llama(\n",
    "    model_path='llama3.Q4_K_M.gguf',\n",
    "    n_ctx=2048,  # Context length to use\n",
    "    n_threads=1024,            # Number of CPU threads to use\n",
    "    n_gpu_layers=32        # Number of model layers to offload to GPU\n",
    ")\n",
    "\n",
    "## Generation kwargs\n",
    "generation_kwargs = {\n",
    "    \"max_tokens\":128,\n",
    "    \"stop\":[\"</s>\"],\n",
    "    \"echo\":False, # Echo the prompt in the output\n",
    "    \"top_k\":10 # This is essentially greedy decoding, since the model will always return the highest-probability token. Set this value > 1 for sampling decoding\n",
    "}\n",
    "\n",
    "prompt = alpaca_prompt.format(\n",
    "    \"请用中文回答\", # instruction\n",
    "    \"爸爸再婚，我是不是就有了个新娘？\", # input\n",
    "    \"\", # output\n",
    ")\n",
    "\n",
    "\n",
    "res = llm(prompt, **generation_kwargs) # Res is a dictionary\n",
    "print(res[\"choices\"][0][\"text\"])\n"
   ]
  }
 ],
 "metadata": {
  "kernelspec": {
   "display_name": "us",
   "language": "python",
   "name": "python3"
  },
  "language_info": {
   "codemirror_mode": {
    "name": "ipython",
    "version": 3
   },
   "file_extension": ".py",
   "mimetype": "text/x-python",
   "name": "python",
   "nbconvert_exporter": "python",
   "pygments_lexer": "ipython3",
   "version": "3.10.14"
  }
 },
 "nbformat": 4,
 "nbformat_minor": 2
}
